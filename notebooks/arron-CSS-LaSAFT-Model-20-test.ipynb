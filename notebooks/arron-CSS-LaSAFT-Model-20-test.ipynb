{
 "cells": [
  {
   "cell_type": "code",
   "execution_count": 1,
   "metadata": {},
   "outputs": [
    {
     "name": "stdout",
     "output_type": "stream",
     "text": [
      "cpu\n"
     ]
    }
   ],
   "source": [
    "import torch\n",
    "import torch.nn as nn\n",
    "import numpy as np\n",
    "import scipy\n",
    "import librosa\n",
    "import youtube_dl\n",
    "import os\n",
    "import soundfile as sf\n",
    "import musdb\n",
    "from IPython.display import Audio, display\n",
    "\n",
    "use_cuda = torch.cuda.is_available()\n",
    "device = torch.device(\"cuda\" if use_cuda else \"cpu\")\n",
    "print(device)"
   ]
  },
  {
   "cell_type": "code",
   "execution_count": 2,
   "metadata": {},
   "outputs": [
    {
     "name": "stdout",
     "output_type": "stream",
     "text": [
      "/Users/arron/code/PlexedLive/mixs/models/Conditioned-Source-Separation-LaSAFT\n"
     ]
    }
   ],
   "source": [
    "%cd ../models/Conditioned-Source-Separation-LaSAFT"
   ]
  },
  {
   "cell_type": "code",
   "execution_count": 3,
   "metadata": {},
   "outputs": [],
   "source": [
    "from lasaft.source_separation.conditioned.cunet.models.dcun_tfc_gpocm_lasaft import DCUN_TFC_GPoCM_LaSAFT_Framework\n",
    "\n",
    "args = {}\n",
    "\n",
    "# FFT params\n",
    "args['n_fft'] = 2048\n",
    "args['hop_length'] = 1024\n",
    "args['num_frame'] = 128\n",
    "\n",
    "# SVS Framework\n",
    "args['spec_type'] = 'complex'\n",
    "args['spec_est_mode'] = 'mapping'\n",
    "\n",
    "# Other Hyperparams\n",
    "args['optimizer'] = 'adam'\n",
    "args['lr'] = 0.001\n",
    "args['dev_mode'] = False\n",
    "args['train_loss'] = 'spec_mse'\n",
    "args['val_loss'] = 'raw_l1'\n",
    "\n",
    "# DenseNet Hyperparams\n",
    "\n",
    "args ['n_blocks'] = 7\n",
    "args ['input_channels'] = 4\n",
    "args ['internal_channels'] = 24\n",
    "args ['first_conv_activation'] = 'relu'\n",
    "args ['last_activation'] = 'identity'\n",
    "args ['t_down_layers'] = None\n",
    "args ['f_down_layers'] = None\n",
    "args ['tif_init_mode'] = None\n",
    "\n",
    "# TFC_TDF Block's Hyperparams\n",
    "args['n_internal_layers'] =5\n",
    "args['kernel_size_t'] = 3\n",
    "args['kernel_size_f'] = 3\n",
    "args['tfc_tdf_activation'] = 'relu'\n",
    "args['bn_factor'] = 16\n",
    "args['min_bn_units'] = 16\n",
    "args['tfc_tdf_bias'] = True\n",
    "args['num_tdfs'] = 6\n",
    "args['dk'] = 32\n",
    "\n",
    "args['control_vector_type'] = 'embedding'\n",
    "args['control_input_dim'] = 4\n",
    "args['embedding_dim'] = 32\n",
    "args['condition_to'] = 'decoder'\n",
    "\n",
    "args['control_n_layer'] = 4\n",
    "args['control_type'] = 'dense'\n",
    "args['pocm_type'] = 'matmul'\n",
    "args['pocm_norm'] = 'batch_norm'\n",
    "\n",
    "\n",
    "model = DCUN_TFC_GPoCM_LaSAFT_Framework(**args)"
   ]
  },
  {
   "cell_type": "code",
   "execution_count": 4,
   "metadata": {},
   "outputs": [],
   "source": [
    "model = model.load_from_checkpoint('pretrained/gpocm_lasaft.ckpt')"
   ]
  },
  {
   "cell_type": "code",
   "execution_count": 5,
   "metadata": {},
   "outputs": [
    {
     "name": "stdout",
     "output_type": "stream",
     "text": [
      "/Users/arron/code/PlexedLive/mixs/models/Conditioned-Source-Separation-LaSAFT\n"
     ]
    }
   ],
   "source": [
    "!pwd"
   ]
  },
  {
   "cell_type": "code",
   "execution_count": 6,
   "metadata": {},
   "outputs": [
    {
     "name": "stdout",
     "output_type": "stream",
     "text": [
      "/Users/arron/code/PlexedLive/mixs/raw_data/musdb18/samples/test\n"
     ]
    }
   ],
   "source": [
    "%cd ../../raw_data/musdb18/samples/test"
   ]
  },
  {
   "cell_type": "code",
   "execution_count": 7,
   "metadata": {},
   "outputs": [],
   "source": [
    "def separate_all(audio):\n",
    "    '''\n",
    "    you can add or remove what ever you want in this loop\n",
    "    using the keys, vocals, drums, bass and other\n",
    "    you can also combine them \n",
    "    '''\n",
    "    \n",
    "    print('vocals')\n",
    "    vocals = model.separate_track(audio, 'vocals') \n",
    "\n",
    "    print('drums')\n",
    "    drums = model.separate_track(audio, 'drums') \n",
    "\n",
    "\n",
    "    print('bass')\n",
    "    bass = model.separate_track(audio, 'bass') \n",
    "\n",
    "\n",
    "    print('other')\n",
    "    other = model.separate_track(audio, 'other') \n",
    "\n",
    "    \n",
    "    return vocals, drums, bass, other"
   ]
  },
  {
   "cell_type": "code",
   "execution_count": 9,
   "metadata": {},
   "outputs": [
    {
     "name": "stdout",
     "output_type": "stream",
     "text": [
      "vocals\n",
      "drums\n",
      "bass\n",
      "other\n",
      "AM Contra - Heart Peripheral.stem.mp4 completed\n",
      "{'vocals': array([[ 6.10351562e-05,  6.10351562e-05],\n",
      "       [-2.74658203e-04, -5.49316406e-04],\n",
      "       [-4.88281250e-04, -9.15527344e-05],\n",
      "       ...,\n",
      "       [-6.10351562e-05,  0.00000000e+00],\n",
      "       [-2.74658203e-04, -4.57763672e-04],\n",
      "       [ 4.27246094e-04,  3.35693359e-04]]), 'drums': array([[-5.49316406e-04, -2.13623047e-04],\n",
      "       [-5.18798828e-04,  0.00000000e+00],\n",
      "       [-3.96728516e-04, -2.74658203e-04],\n",
      "       ...,\n",
      "       [-5.49316406e-04, -5.49316406e-04],\n",
      "       [-4.88281250e-04, -6.40869141e-04],\n",
      "       [-9.15527344e-05,  3.05175781e-05]]), 'bass': array([[-4.57763672e-04, -4.57763672e-04],\n",
      "       [ 9.15527344e-05,  1.22070312e-04],\n",
      "       [-3.96728516e-04, -3.66210938e-04],\n",
      "       ...,\n",
      "       [-2.44140625e-04, -9.15527344e-05],\n",
      "       [-3.66210938e-04, -9.15527344e-05],\n",
      "       [-2.13623047e-04, -1.22070312e-04]]), 'other': array([[ 1.22070312e-04,  1.83105469e-04],\n",
      "       [-3.96728516e-04, -3.66210938e-04],\n",
      "       [-1.83105469e-04,  3.05175781e-05],\n",
      "       ...,\n",
      "       [-1.52587891e-04,  1.22070312e-04],\n",
      "       [-7.62939453e-04, -3.66210938e-04],\n",
      "       [ 4.88281250e-04,  7.01904297e-04]])}\n",
      "vocals\n",
      "drums\n",
      "bass\n"
     ]
    },
    {
     "ename": "KeyboardInterrupt",
     "evalue": "",
     "output_type": "error",
     "traceback": [
      "\u001b[0;31m---------------------------------------------------------------------------\u001b[0m",
      "\u001b[0;31mKeyboardInterrupt\u001b[0m                         Traceback (most recent call last)",
      "\u001b[0;32m<timed exec>\u001b[0m in \u001b[0;36m<module>\u001b[0;34m\u001b[0m\n",
      "\u001b[0;32m<ipython-input-7-aa25f6479186>\u001b[0m in \u001b[0;36mseparate_all\u001b[0;34m(audio)\u001b[0m\n\u001b[1;32m     14\u001b[0m \u001b[0;34m\u001b[0m\u001b[0m\n\u001b[1;32m     15\u001b[0m     \u001b[0mprint\u001b[0m\u001b[0;34m(\u001b[0m\u001b[0;34m'bass'\u001b[0m\u001b[0;34m)\u001b[0m\u001b[0;34m\u001b[0m\u001b[0;34m\u001b[0m\u001b[0m\n\u001b[0;32m---> 16\u001b[0;31m     \u001b[0mbass\u001b[0m \u001b[0;34m=\u001b[0m \u001b[0mmodel\u001b[0m\u001b[0;34m.\u001b[0m\u001b[0mseparate_track\u001b[0m\u001b[0;34m(\u001b[0m\u001b[0maudio\u001b[0m\u001b[0;34m,\u001b[0m \u001b[0;34m'bass'\u001b[0m\u001b[0;34m)\u001b[0m\u001b[0;34m\u001b[0m\u001b[0;34m\u001b[0m\u001b[0m\n\u001b[0m\u001b[1;32m     17\u001b[0m \u001b[0;34m\u001b[0m\u001b[0m\n\u001b[1;32m     18\u001b[0m \u001b[0;34m\u001b[0m\u001b[0m\n",
      "\u001b[0;32m~/code/PlexedLive/mixs/models/Conditioned-Source-Separation-LaSAFT/lasaft/source_separation/conditioned/cunet/dcun_base.py\u001b[0m in \u001b[0;36mseparate_track\u001b[0;34m(self, input_signal, target)\u001b[0m\n\u001b[1;32m    262\u001b[0m \u001b[0;34m\u001b[0m\u001b[0m\n\u001b[1;32m    263\u001b[0m                 \u001b[0;32mfor\u001b[0m \u001b[0mitem\u001b[0m \u001b[0;32min\u001b[0m \u001b[0mdb\u001b[0m\u001b[0;34m:\u001b[0m\u001b[0;34m\u001b[0m\u001b[0;34m\u001b[0m\u001b[0m\n\u001b[0;32m--> 264\u001b[0;31m                     separated.append(self.separate(item.unsqueeze(0).to(self.device), input_condition)[0]\n\u001b[0m\u001b[1;32m    265\u001b[0m                                      [self.trim_length:-self.trim_length].detach().cpu().numpy())\n\u001b[1;32m    266\u001b[0m \u001b[0;34m\u001b[0m\u001b[0m\n",
      "\u001b[0;32m~/code/PlexedLive/mixs/models/Conditioned-Source-Separation-LaSAFT/lasaft/source_separation/conditioned/cunet/dcun_base.py\u001b[0m in \u001b[0;36mseparate\u001b[0;34m(self, input_signal, input_condition)\u001b[0m\n\u001b[1;32m    195\u001b[0m \u001b[0;34m\u001b[0m\u001b[0m\n\u001b[1;32m    196\u001b[0m         \u001b[0;32melse\u001b[0m\u001b[0;34m:\u001b[0m\u001b[0;34m\u001b[0m\u001b[0;34m\u001b[0m\u001b[0m\n\u001b[0;32m--> 197\u001b[0;31m             \u001b[0mspec_complex\u001b[0m \u001b[0;34m=\u001b[0m \u001b[0mself\u001b[0m\u001b[0;34m.\u001b[0m\u001b[0mstft\u001b[0m\u001b[0;34m.\u001b[0m\u001b[0mto_spec_complex\u001b[0m\u001b[0;34m(\u001b[0m\u001b[0minput_signal\u001b[0m\u001b[0;34m)\u001b[0m  \u001b[0;31m# *, N, T, 2, ch\u001b[0m\u001b[0;34m\u001b[0m\u001b[0;34m\u001b[0m\u001b[0m\n\u001b[0m\u001b[1;32m    198\u001b[0m             \u001b[0mspec_complex\u001b[0m \u001b[0;34m=\u001b[0m \u001b[0mtorch\u001b[0m\u001b[0;34m.\u001b[0m\u001b[0mflatten\u001b[0m\u001b[0;34m(\u001b[0m\u001b[0mspec_complex\u001b[0m\u001b[0;34m,\u001b[0m \u001b[0mstart_dim\u001b[0m\u001b[0;34m=\u001b[0m\u001b[0;34m-\u001b[0m\u001b[0;36m2\u001b[0m\u001b[0;34m)\u001b[0m  \u001b[0;31m# *, N, T, 2ch\u001b[0m\u001b[0;34m\u001b[0m\u001b[0;34m\u001b[0m\u001b[0m\n\u001b[1;32m    199\u001b[0m             \u001b[0minput_spec\u001b[0m \u001b[0;34m=\u001b[0m \u001b[0mspec_complex\u001b[0m\u001b[0;34m.\u001b[0m\u001b[0mtranspose\u001b[0m\u001b[0;34m(\u001b[0m\u001b[0;34m-\u001b[0m\u001b[0;36m1\u001b[0m\u001b[0;34m,\u001b[0m \u001b[0;34m-\u001b[0m\u001b[0;36m3\u001b[0m\u001b[0;34m)\u001b[0m  \u001b[0;31m# *, 2ch, T, N\u001b[0m\u001b[0;34m\u001b[0m\u001b[0;34m\u001b[0m\u001b[0m\n",
      "\u001b[0;32m~/code/PlexedLive/mixs/models/Conditioned-Source-Separation-LaSAFT/lasaft/utils/fourier.py\u001b[0m in \u001b[0;36mto_spec_complex\u001b[0;34m(self, input_signal)\u001b[0m\n\u001b[1;32m    125\u001b[0m         spec_complex_ch = [self.stft.to_spec_complex(input_signal[..., ch_idx])\n\u001b[1;32m    126\u001b[0m                            for ch_idx in range(num_channels)]\n\u001b[0;32m--> 127\u001b[0;31m         \u001b[0;32mreturn\u001b[0m \u001b[0mtorch\u001b[0m\u001b[0;34m.\u001b[0m\u001b[0mstack\u001b[0m\u001b[0;34m(\u001b[0m\u001b[0mspec_complex_ch\u001b[0m\u001b[0;34m,\u001b[0m \u001b[0mdim\u001b[0m\u001b[0;34m=\u001b[0m\u001b[0;34m-\u001b[0m\u001b[0;36m1\u001b[0m\u001b[0;34m)\u001b[0m\u001b[0;34m\u001b[0m\u001b[0;34m\u001b[0m\u001b[0m\n\u001b[0m\u001b[1;32m    128\u001b[0m \u001b[0;34m\u001b[0m\u001b[0m\n\u001b[1;32m    129\u001b[0m     \u001b[0;32mdef\u001b[0m \u001b[0mto_mag\u001b[0m\u001b[0;34m(\u001b[0m\u001b[0mself\u001b[0m\u001b[0;34m,\u001b[0m \u001b[0minput_signal\u001b[0m\u001b[0;34m,\u001b[0m \u001b[0mpower\u001b[0m\u001b[0;34m=\u001b[0m\u001b[0;36m1.0\u001b[0m\u001b[0;34m)\u001b[0m\u001b[0;34m:\u001b[0m\u001b[0;34m\u001b[0m\u001b[0;34m\u001b[0m\u001b[0m\n",
      "\u001b[0;31mKeyboardInterrupt\u001b[0m: "
     ]
    }
   ],
   "source": [
    "%%time\n",
    "# path = '/content/drive/MyDrive/Musdbsample'\n",
    "songs = [f for f in os.listdir() if not f.startswith('.')]\n",
    "songs = sorted(songs)\n",
    "#Sorted songs list to match songs_DB\n",
    "estimates_dict = {}\n",
    "songs_DB = musdb.DB(root='../../samples', subsets='test')\n",
    "rate = 44100\n",
    "\n",
    "for index, song in enumerate(songs):\n",
    "    '''\n",
    "    This will loop through all songs split and output the results into a dict\n",
    "    NOTE - librosa is only to get the rate of the song\n",
    "    '''  \n",
    "    estimates_dict[song] = {}\n",
    "    estimates_dict[song]['vocals'], estimates_dict[song]['drums'], estimates_dict[song]['bass'], estimates_dict[song]['other'] =\\\n",
    "    separate_all(songs_DB[index].audio)\n",
    "    print(f'{song} completed')\n",
    "    print(estimates_dict[song])"
   ]
  },
  {
   "cell_type": "code",
   "execution_count": null,
   "metadata": {},
   "outputs": [],
   "source": []
  }
 ],
 "metadata": {
  "kernelspec": {
   "display_name": "Python 3",
   "language": "python",
   "name": "python3"
  },
  "language_info": {
   "codemirror_mode": {
    "name": "ipython",
    "version": 3
   },
   "file_extension": ".py",
   "mimetype": "text/x-python",
   "name": "python",
   "nbconvert_exporter": "python",
   "pygments_lexer": "ipython3",
   "version": "3.7.7"
  }
 },
 "nbformat": 4,
 "nbformat_minor": 4
}
