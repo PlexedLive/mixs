{
 "cells": [
  {
   "cell_type": "markdown",
   "metadata": {},
   "source": [
    "## Quick Start Exploration"
   ]
  },
  {
   "cell_type": "markdown",
   "metadata": {},
   "source": [
    "1. Spleeter can separate audio into 2, 4, or 5 stems\n",
    "2. Dependent on installation of *ffmpeg* & *libsndfile*\n",
    "3. If you have issues with ffmpeg probe, pip uninstall ffmpeg-python then pip install ffmpeg-python\n",
    "4. pip install spleeter\n",
    "5. There is a conda install (and a conda install for running on GPU) but I was not able to get it to work"
   ]
  },
  {
   "cell_type": "code",
   "execution_count": 9,
   "metadata": {},
   "outputs": [],
   "source": [
    "from spleeter.separator import Separator\n",
    "from spleeter.audio.adapter import  get_default_audio_adapter\n",
    "import librosa\n",
    "from IPython.display import Audio, display\n",
    "import numpy as np\n",
    "import youtube_dl\n",
    "import os"
   ]
  },
  {
   "cell_type": "markdown",
   "metadata": {},
   "source": [
    "## 4-stem implementation with one song"
   ]
  },
  {
   "cell_type": "code",
   "execution_count": null,
   "metadata": {},
   "outputs": [],
   "source": [
    "separator = Separator('spleeter:4stems')"
   ]
  },
  {
   "cell_type": "code",
   "execution_count": null,
   "metadata": {},
   "outputs": [],
   "source": [
    "! pwd"
   ]
  },
  {
   "cell_type": "code",
   "execution_count": null,
   "metadata": {},
   "outputs": [],
   "source": [
    "track_dir = '../raw_data/small_sample/train'\n",
    "track_name = \"James May - On The Line.stem.mp4\"\n",
    "audio, rate = librosa.load(f'{track_dir}/{track_name}', mono=False, sr=None)\n",
    "rate"
   ]
  },
  {
   "cell_type": "code",
   "execution_count": null,
   "metadata": {},
   "outputs": [],
   "source": [
    "audio_loader = get_default_audio_adapter()\n",
    "waveform, _ = audio_loader.load(f'{track_dir}/{track_name}', sample_rate=rate)"
   ]
  },
  {
   "cell_type": "code",
   "execution_count": null,
   "metadata": {},
   "outputs": [],
   "source": [
    "%%time\n",
    "prediction = separator.separate(waveform)"
   ]
  },
  {
   "cell_type": "code",
   "execution_count": null,
   "metadata": {},
   "outputs": [],
   "source": [
    "# When ready to do multiple predictions and save output, uncomment line below:\n",
    "\n",
    "# separator.separate_to_file('/path/to/audio', '/path/to/output/directory')"
   ]
  },
  {
   "cell_type": "code",
   "execution_count": 10,
   "metadata": {},
   "outputs": [],
   "source": [
    "def display_audio(prediction):\n",
    "    for key, val in prediction.items():\n",
    "        print(key)\n",
    "        display(Audio(val.T, rate=44100))"
   ]
  },
  {
   "cell_type": "code",
   "execution_count": null,
   "metadata": {},
   "outputs": [],
   "source": [
    "display_audio(prediction)"
   ]
  },
  {
   "cell_type": "markdown",
   "metadata": {},
   "source": [
    "## 5-stem implementation with one song"
   ]
  },
  {
   "cell_type": "code",
   "execution_count": 2,
   "metadata": {},
   "outputs": [],
   "source": [
    "separator_5 = Separator('spleeter:5stems')"
   ]
  },
  {
   "cell_type": "code",
   "execution_count": 3,
   "metadata": {},
   "outputs": [],
   "source": [
    "url = \"gxEPV4kolz0\" #@param {type:\"string\"}"
   ]
  },
  {
   "cell_type": "code",
   "execution_count": null,
   "metadata": {},
   "outputs": [
    {
     "name": "stdout",
     "output_type": "stream",
     "text": [
      "[youtube] gxEPV4kolz0: Downloading webpage\n",
      "[youtube] gxEPV4kolz0: Downloading webpage\n",
      "[download] Billy Joel - Piano Man (Video).wav has already been downloaded\n",
      "[download] 100% of 5.57MiB\n",
      "Done downloading...\n",
      "[ffmpeg] Post-process file Billy Joel - Piano Man (Video).wav exists, skipping\n"
     ]
    },
    {
     "name": "stderr",
     "output_type": "stream",
     "text": [
      "c:\\users\\njeri\\.venvs\\mixs_env\\lib\\site-packages\\librosa\\core\\audio.py:162: UserWarning: PySoundFile failed. Trying audioread instead.\n",
      "  warnings.warn(\"PySoundFile failed. Trying audioread instead.\")\n"
     ]
    },
    {
     "name": "stdout",
     "output_type": "stream",
     "text": [
      "(2, 15062017)\n"
     ]
    }
   ],
   "source": [
    "def my_hook(d):\n",
    "    if d['status'] == 'finished':\n",
    "        print('Done downloading...')\n",
    "\n",
    "\n",
    "ydl_opts = {\n",
    "    'format': 'bestaudio/best',\n",
    "    'postprocessors': [{\n",
    "        'key': 'FFmpegExtractAudio',\n",
    "        'preferredcodec': 'wav',\n",
    "        'preferredquality': '44100',\n",
    "    }],\n",
    "    'outtmpl': '%(title)s.wav',\n",
    "    'progress_hooks': [my_hook],\n",
    "}\n",
    "with youtube_dl.YoutubeDL(ydl_opts) as ydl:\n",
    "    info = ydl.extract_info(url, download=False)\n",
    "    status = ydl.download([url])\n",
    "\n",
    "audio, rate = librosa.load(info.get('title', None) + '.wav', sr=44100, mono=False)\n",
    "print(audio.shape)\n",
    "display(Audio(audio, rate=rate))"
   ]
  },
  {
   "cell_type": "code",
   "execution_count": null,
   "metadata": {},
   "outputs": [],
   "source": [
    "audio_loader = get_default_audio_adapter()\n",
    "waveform_5, _ = audio_loader.load(info.get('title', None) + '.wav', sample_rate=44100)"
   ]
  },
  {
   "cell_type": "code",
   "execution_count": null,
   "metadata": {},
   "outputs": [],
   "source": [
    "%%time\n",
    "prediction_5 = separator_5.separate(waveform_5)"
   ]
  },
  {
   "cell_type": "code",
   "execution_count": null,
   "metadata": {},
   "outputs": [],
   "source": [
    "display_audio(prediction_5)"
   ]
  },
  {
   "cell_type": "markdown",
   "metadata": {},
   "source": [
    "## 4-stem implementation with multiple songs"
   ]
  },
  {
   "cell_type": "code",
   "execution_count": null,
   "metadata": {},
   "outputs": [],
   "source": [
    "separator_4 = Separator('spleeter:4stems')"
   ]
  },
  {
   "cell_type": "code",
   "execution_count": null,
   "metadata": {},
   "outputs": [],
   "source": [
    "%%time\n",
    "track_dir = '../raw_data/small_sample'\n",
    "audio_loader = get_default_audio_adapter()\n",
    "predictions = []\n",
    "for track in os.listdir(track_dir):\n",
    "    if track.endswith(\".mp4\"):\n",
    "        audio, rate = librosa.load(f'{track_dir}/{track}', mono=False, sr=None)\n",
    "        waveform, _ = audio_loader.load(f'{track_dir}/{track}', sample_rate=rate)\n",
    "        predictions.append(separator_4.separate(waveform))\n",
    "\n",
    "len(predictions)"
   ]
  },
  {
   "cell_type": "code",
   "execution_count": null,
   "metadata": {},
   "outputs": [],
   "source": [
    "predictions[17]"
   ]
  },
  {
   "cell_type": "markdown",
   "metadata": {},
   "source": [
    "## 5-stem implementation with multiple songs"
   ]
  },
  {
   "cell_type": "code",
   "execution_count": 11,
   "metadata": {},
   "outputs": [],
   "source": [
    "separator_5 = Separator('spleeter:5stems')"
   ]
  },
  {
   "cell_type": "code",
   "execution_count": 12,
   "metadata": {},
   "outputs": [
    {
     "name": "stderr",
     "output_type": "stream",
     "text": [
      "c:\\users\\njeri\\.venvs\\mixs_env\\lib\\site-packages\\librosa\\core\\audio.py:162: UserWarning: PySoundFile failed. Trying audioread instead.\n",
      "  warnings.warn(\"PySoundFile failed. Trying audioread instead.\")\n"
     ]
    },
    {
     "name": "stdout",
     "output_type": "stream",
     "text": [
      "INFO:tensorflow:Apply unet for vocals_spectrogram\n",
      "INFO:tensorflow:Apply unet for piano_spectrogram\n",
      "INFO:tensorflow:Apply unet for drums_spectrogram\n",
      "INFO:tensorflow:Apply unet for bass_spectrogram\n",
      "INFO:tensorflow:Apply unet for other_spectrogram\n",
      "INFO:tensorflow:Restoring parameters from pretrained_models\\5stems\\model\n",
      "Wall time: 8min 11s\n"
     ]
    },
    {
     "data": {
      "text/plain": [
       "20"
      ]
     },
     "execution_count": 12,
     "metadata": {},
     "output_type": "execute_result"
    }
   ],
   "source": [
    "%%time\n",
    "track_dir = '../raw_data/small_sample'\n",
    "audio_loader = get_default_audio_adapter()\n",
    "predictions_5 = []\n",
    "for track in os.listdir(track_dir):\n",
    "    if track.endswith(\".mp4\"):\n",
    "        audio, rate = librosa.load(f'{track_dir}/{track}', mono=False, sr=None)\n",
    "        waveform, _ = audio_loader.load(f'{track_dir}/{track}', sample_rate=rate)\n",
    "        predictions_5.append(separator_5.separate(waveform))\n",
    "\n",
    "len(predictions_5)"
   ]
  },
  {
   "cell_type": "code",
   "execution_count": 13,
   "metadata": {},
   "outputs": [
    {
     "data": {
      "text/plain": [
       "{'vocals': array([[-5.9437498e-06,  2.7136530e-06],\n",
       "        [-1.0363790e-05,  3.4015993e-06],\n",
       "        [-9.4779962e-06,  1.7994013e-06],\n",
       "        ...,\n",
       "        [ 0.0000000e+00,  0.0000000e+00],\n",
       "        [ 0.0000000e+00,  0.0000000e+00],\n",
       "        [ 0.0000000e+00,  0.0000000e+00]], dtype=float32),\n",
       " 'piano': array([[-7.79070746e-08,  9.77548495e-08],\n",
       "        [-1.61176175e-07,  1.11829479e-07],\n",
       "        [-1.13123804e-07,  5.66841578e-08],\n",
       "        ...,\n",
       "        [ 0.00000000e+00,  0.00000000e+00],\n",
       "        [ 0.00000000e+00,  0.00000000e+00],\n",
       "        [ 0.00000000e+00,  0.00000000e+00]], dtype=float32),\n",
       " 'drums': array([[-6.1507666e-07,  5.6881100e-07],\n",
       "        [-7.6188149e-07,  4.4469303e-07],\n",
       "        [-7.5826102e-07,  3.8342640e-07],\n",
       "        ...,\n",
       "        [ 0.0000000e+00,  0.0000000e+00],\n",
       "        [ 0.0000000e+00,  0.0000000e+00],\n",
       "        [ 0.0000000e+00,  0.0000000e+00]], dtype=float32),\n",
       " 'bass': array([[-8.1884895e-07,  8.6586368e-07],\n",
       "        [-9.2851548e-07,  8.7294569e-07],\n",
       "        [-8.9386748e-07,  8.0035966e-07],\n",
       "        ...,\n",
       "        [ 0.0000000e+00,  0.0000000e+00],\n",
       "        [ 0.0000000e+00,  0.0000000e+00],\n",
       "        [ 0.0000000e+00,  0.0000000e+00]], dtype=float32),\n",
       " 'other': array([[-1.6362015e-05,  2.0029252e-06],\n",
       "        [-2.6067055e-05,  1.8200261e-06],\n",
       "        [-3.3143453e-05,  4.0727363e-07],\n",
       "        ...,\n",
       "        [ 0.0000000e+00,  0.0000000e+00],\n",
       "        [ 0.0000000e+00,  0.0000000e+00],\n",
       "        [ 0.0000000e+00,  0.0000000e+00]], dtype=float32)}"
      ]
     },
     "execution_count": 13,
     "metadata": {},
     "output_type": "execute_result"
    }
   ],
   "source": [
    "predictions_5[14]"
   ]
  },
  {
   "cell_type": "code",
   "execution_count": null,
   "metadata": {},
   "outputs": [],
   "source": []
  }
 ],
 "metadata": {
  "kernelspec": {
   "display_name": "Python 3",
   "language": "python",
   "name": "python3"
  },
  "language_info": {
   "codemirror_mode": {
    "name": "ipython",
    "version": 3
   },
   "file_extension": ".py",
   "mimetype": "text/x-python",
   "name": "python",
   "nbconvert_exporter": "python",
   "pygments_lexer": "ipython3",
   "version": "3.8.3"
  },
  "toc": {
   "base_numbering": 1,
   "nav_menu": {},
   "number_sections": true,
   "sideBar": true,
   "skip_h1_title": false,
   "title_cell": "Table of Contents",
   "title_sidebar": "Contents",
   "toc_cell": false,
   "toc_position": {},
   "toc_section_display": true,
   "toc_window_display": false
  }
 },
 "nbformat": 4,
 "nbformat_minor": 4
}
