{
 "cells": [
  {
   "cell_type": "code",
   "execution_count": 7,
   "metadata": {},
   "outputs": [],
   "source": [
    "from IPython.display import HTML, Audio, display, IFrame\n",
    "import librosa\n",
    "import youtube_dl\n",
    "\n",
    "\n",
    "INPUT = 'https://www.youtube.com/watch?v=0SJIgTLe0hc'\n",
    "EMBED_BASE = \"https://www.youtube.com/embed/%s?rel=0&amp;controls=0&amp;showinfo=0\"\n",
    "\n",
    "class YouTubeDelivery():\n",
    "\n",
    "    def __init__(self):\n",
    "        self.input = INPUT\n",
    "        self.url = INPUT.split(\"watch?v=\", 1)[1]\n",
    "\n",
    "    def embed_return(self):\n",
    "        '''\n",
    "        this method takes the input url and returns\n",
    "        the youtube video in embeded HTML format\n",
    "        '''\n",
    "        embed_url = EMBED_BASE % (self.url)\n",
    "#         return HTML('<iframe width=\"560\" height=\"315\" src=' + embed_url + 'frameborder=\"0\" allowfullscreen></iframe>')\n",
    "        return IFrame(src=embed_url, width=560, height=315)\n"
   ]
  },
  {
   "cell_type": "code",
   "execution_count": null,
   "metadata": {},
   "outputs": [],
   "source": []
  }
 ],
 "metadata": {
  "kernelspec": {
   "display_name": "Python 3",
   "language": "python",
   "name": "python3"
  },
  "language_info": {
   "codemirror_mode": {
    "name": "ipython",
    "version": 3
   },
   "file_extension": ".py",
   "mimetype": "text/x-python",
   "name": "python",
   "nbconvert_exporter": "python",
   "pygments_lexer": "ipython3",
   "version": "3.7.7"
  }
 },
 "nbformat": 4,
 "nbformat_minor": 4
}
